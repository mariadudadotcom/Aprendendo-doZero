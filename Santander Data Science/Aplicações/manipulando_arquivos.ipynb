{
 "cells": [
  {
   "cell_type": "code",
   "execution_count": 3,
   "id": "2719075e",
   "metadata": {},
   "outputs": [],
   "source": [
    "with open('arquivo_teste.txt', 'w', encoding='utf-8') as testando:\n",
    "    testando.write(\"I've seen the blood\\n\")\n",
    "    testando.write(\"I've seen the broken\\n\")\n",
    "    testando.write(\"The lost and the sights unseen\\n\\n\")\n",
    "    testando.write(\"I want a flood\\n\")\n",
    "    testando.write(\"I want an ocean\\n\")\n",
    "    testando.write(\"To wash my confusion clean\\n\")"
   ]
  },
  {
   "cell_type": "code",
   "execution_count": 6,
   "id": "7bcabb9d",
   "metadata": {},
   "outputs": [
    {
     "name": "stdout",
     "output_type": "stream",
     "text": [
      "I've seen the blood\n",
      "I've seen the broken\n",
      "The lost and the sights unseen\n",
      "\n",
      "I want a flood\n",
      "I want an ocean\n",
      "To wash my confusion clean\n",
      "I can't resolve this empty story\n",
      "I can't repair\n",
      "The damage done\n"
     ]
    }
   ],
   "source": [
    "with open('arquivo_teste.txt', 'r', encoding='utf-8') as testando:\n",
    "    print(testando.read(), end='')"
   ]
  },
  {
   "cell_type": "code",
   "execution_count": 5,
   "id": "6689b9f2",
   "metadata": {},
   "outputs": [],
   "source": [
    "with open('arquivo_teste.txt', 'a', encoding='utf-8') as testando:\n",
    "    testando.write(\"I can't resolve this empty story\\n\")\n",
    "    testando.write(\"I can't repair\\n\")\n",
    "    testando.write(\"The damage done\\n\")"
   ]
  },
  {
   "cell_type": "code",
   "execution_count": null,
   "id": "28f83876",
   "metadata": {},
   "outputs": [],
   "source": [
    "#+ simbolo para abrir e modificar arquivo\n",
    "#update"
   ]
  }
 ],
 "metadata": {
  "kernelspec": {
   "display_name": "Python 3 (ipykernel)",
   "language": "python",
   "name": "python3"
  },
  "language_info": {
   "codemirror_mode": {
    "name": "ipython",
    "version": 3
   },
   "file_extension": ".py",
   "mimetype": "text/x-python",
   "name": "python",
   "nbconvert_exporter": "python",
   "pygments_lexer": "ipython3",
   "version": "3.9.6"
  }
 },
 "nbformat": 4,
 "nbformat_minor": 5
}
