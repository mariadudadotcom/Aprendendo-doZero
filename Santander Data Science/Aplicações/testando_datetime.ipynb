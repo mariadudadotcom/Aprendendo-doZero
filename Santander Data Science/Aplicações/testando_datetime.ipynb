{
 "cells": [
  {
   "cell_type": "code",
   "execution_count": 1,
   "id": "539be966",
   "metadata": {},
   "outputs": [],
   "source": [
    "import datetime as dtm"
   ]
  },
  {
   "cell_type": "code",
   "execution_count": 7,
   "id": "f8afcbfa",
   "metadata": {},
   "outputs": [
    {
     "name": "stdout",
     "output_type": "stream",
     "text": [
      "2018-04-16 Ano-Mês-Dia\n",
      "---------\n",
      "02:04:00.000012 Hora:Minuto:Segundo:Microsegundo\n",
      "---------\n",
      "2018-04-16 02:04:00.000012 Ano-Mês-Dia Hora:Minuto:Segundo:Microsegundo\n"
     ]
    }
   ],
   "source": [
    "print(dtm.date(2018, 4, 16), 'Ano-Mês-Dia')\n",
    "print('---------')\n",
    "print(dtm.time(2, 4, 0, 12), 'Hora:Minuto:Segundo:Microsegundo')\n",
    "print('---------')\n",
    "print(dtm.datetime(2018, 4, 16, 2, 4, 0, 12), 'Ano-Mês-Dia Hora:Minuto:Segundo:Microsegundo')"
   ]
  },
  {
   "cell_type": "code",
   "execution_count": 8,
   "id": "8355ee31",
   "metadata": {},
   "outputs": [
    {
     "name": "stdout",
     "output_type": "stream",
     "text": [
      "7 days, 0:00:00\n",
      "7 Dias\n",
      "0 segundos\n",
      "0 microsegundos\n"
     ]
    }
   ],
   "source": [
    "natal = dtm.date(2021, 12, 25)\n",
    "reveillon = dtm.date(2022, 1, 1)\n",
    "\n",
    "print(reveillon - natal)\n",
    "print((reveillon - natal).days, 'Dias')\n",
    "print((reveillon - natal).seconds, 'segundos')\n",
    "print((reveillon - natal).microseconds, 'microsegundos')"
   ]
  },
  {
   "cell_type": "code",
   "execution_count": null,
   "id": "da665791",
   "metadata": {},
   "outputs": [],
   "source": []
  }
 ],
 "metadata": {
  "kernelspec": {
   "display_name": "Python 3 (ipykernel)",
   "language": "python",
   "name": "python3"
  },
  "language_info": {
   "codemirror_mode": {
    "name": "ipython",
    "version": 3
   },
   "file_extension": ".py",
   "mimetype": "text/x-python",
   "name": "python",
   "nbconvert_exporter": "python",
   "pygments_lexer": "ipython3",
   "version": "3.9.6"
  }
 },
 "nbformat": 4,
 "nbformat_minor": 5
}
