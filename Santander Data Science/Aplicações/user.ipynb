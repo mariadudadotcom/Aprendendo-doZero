{
 "cells": [
  {
   "cell_type": "code",
   "execution_count": 14,
   "id": "a095f033",
   "metadata": {},
   "outputs": [],
   "source": [
    "import csv"
   ]
  },
  {
   "cell_type": "code",
   "execution_count": 17,
   "id": "2c099f4e",
   "metadata": {},
   "outputs": [],
   "source": [
    "with open('user.csv', 'w', encoding='utf-8', newline='') as arquivo_users:\n",
    "    escritor = csv.writer(arquivo_users)\n",
    "    escritor.writerows(['nome', 'sobrenome', 'e-mail', 'genero'])\n",
    "    escritor.writerows(['Ana', 'Silva', 'ana.silva@mail.com', 'feminino'])"
   ]
  },
  {
   "cell_type": "code",
   "execution_count": 19,
   "id": "5ecb33ae",
   "metadata": {},
   "outputs": [
    {
     "name": "stdout",
     "output_type": "stream",
     "text": [
      "O que deseja fazer?\n",
      "1- Cadastrar\n",
      "0 - Sair\n",
      "1\n",
      "Qual seu nome? José\n",
      "Qual seu sobrenome? Jenis\n",
      "O que deseja fazer?\n",
      "1- Cadastrar\n",
      "0 - Sair\n",
      "0\n",
      "[['José', 'Jenis']]\n",
      "['nome', 'sobrenome']\n",
      "[\"['José', 'Jenis']\"]\n"
     ]
    }
   ],
   "source": [
    "header = ['nome', 'sobrenome']\n",
    "dados = []\n",
    "opt = input(\"O que deseja fazer?\\n1- Cadastrar\\n0 - Sair\\n\")\n",
    "\n",
    "while opt != '0':\n",
    "    nome = input(\"Qual seu nome? \")\n",
    "    sobrenome = input(\"Qual seu sobrenome? \")\n",
    "    dados.append([nome, sobrenome])\n",
    "    opt = input(\"O que deseja fazer?\\n1- Cadastrar\\n0 - Sair\\n\")\n",
    "    \n",
    "print(dados) #ver como é exibido\n",
    "\n",
    "with open('user.csv', 'w', encoding='utf-8', newline='') as arquivo_csv:\n",
    "    writer = csv.writer(arquivo_csv)\n",
    "    writer.writerow(header)\n",
    "    writer.writerow(dados)\n",
    "with open('user.csv', 'r', encoding='utf-8') as csv_file:\n",
    "    csv_reader = csv.reader(csv_file, delimiter=',')\n",
    "    for row in csv_reader:\n",
    "        print(row)"
   ]
  },
  {
   "cell_type": "code",
   "execution_count": null,
   "id": "ab9bb1b2",
   "metadata": {},
   "outputs": [],
   "source": []
  }
 ],
 "metadata": {
  "kernelspec": {
   "display_name": "Python 3 (ipykernel)",
   "language": "python",
   "name": "python3"
  },
  "language_info": {
   "codemirror_mode": {
    "name": "ipython",
    "version": 3
   },
   "file_extension": ".py",
   "mimetype": "text/x-python",
   "name": "python",
   "nbconvert_exporter": "python",
   "pygments_lexer": "ipython3",
   "version": "3.9.6"
  }
 },
 "nbformat": 4,
 "nbformat_minor": 5
}
