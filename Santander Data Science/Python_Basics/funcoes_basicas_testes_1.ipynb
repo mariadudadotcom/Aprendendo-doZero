{
 "cells": [
  {
   "cell_type": "code",
   "execution_count": 1,
   "id": "42ea7500",
   "metadata": {},
   "outputs": [
    {
     "name": "stdout",
     "output_type": "stream",
     "text": [
      "0\n",
      "1\n",
      "2\n",
      "3\n",
      "4\n",
      "5\n"
     ]
    }
   ],
   "source": [
    "for i, letter in enumerate('qwerty'):\n",
    "    print(i)"
   ]
  },
  {
   "cell_type": "code",
   "execution_count": 14,
   "id": "54e6149d",
   "metadata": {},
   "outputs": [],
   "source": [
    "lista_integrantes = ['Chorão', 'Champignon', 'Marcão', 'Renato Pelado']\n",
    "lista_funcoes = ['Voz', 'Baixo', 'Guitarra', 'Bateria']"
   ]
  },
  {
   "cell_type": "code",
   "execution_count": 20,
   "id": "939d7e56",
   "metadata": {},
   "outputs": [
    {
     "name": "stdout",
     "output_type": "stream",
     "text": [
      "O Chorão tinha a função de Voz\n",
      "O Champignon tinha a função de Baixo\n",
      "O Marcão tinha a função de Guitarra\n",
      "O Renato Pelado tinha a função de Bateria\n"
     ]
    }
   ],
   "source": [
    "#compressao de infos\n",
    "for i, f in zip(lista_integrantes, lista_funcoes):\n",
    "    print(f'O {i} tinha a função de {f}'.format(lista_integrantes, lista_funcoes))"
   ]
  },
  {
   "cell_type": "code",
   "execution_count": 21,
   "id": "a2d96c42",
   "metadata": {},
   "outputs": [
    {
     "data": {
      "text/plain": [
       "[32.0, 59.0, 77.0, 71.6]"
      ]
     },
     "execution_count": 21,
     "metadata": {},
     "output_type": "execute_result"
    }
   ],
   "source": [
    "# teste de conversao\n",
    "#Celsius para fahrenheit\n",
    "\n",
    "celsius = [0, 15, 25, 22]\n",
    "\n",
    "[((9/5) * weather + 32) for weather in celsius]"
   ]
  },
  {
   "cell_type": "code",
   "execution_count": null,
   "id": "7c81ab74",
   "metadata": {},
   "outputs": [],
   "source": []
  }
 ],
 "metadata": {
  "kernelspec": {
   "display_name": "Python 3 (ipykernel)",
   "language": "python",
   "name": "python3"
  },
  "language_info": {
   "codemirror_mode": {
    "name": "ipython",
    "version": 3
   },
   "file_extension": ".py",
   "mimetype": "text/x-python",
   "name": "python",
   "nbconvert_exporter": "python",
   "pygments_lexer": "ipython3",
   "version": "3.9.6"
  }
 },
 "nbformat": 4,
 "nbformat_minor": 5
}
