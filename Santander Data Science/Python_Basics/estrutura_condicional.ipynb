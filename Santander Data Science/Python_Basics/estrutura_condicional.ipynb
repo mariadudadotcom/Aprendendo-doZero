{
 "cells": [
  {
   "cell_type": "code",
   "execution_count": 15,
   "id": "8b65b884",
   "metadata": {},
   "outputs": [
    {
     "name": "stdout",
     "output_type": "stream",
     "text": [
      "Digite quanto você pode gastar com livros: 80\n",
      "Digite o valor do primeiro livro: 45\n",
      "Digite o valor do segundo livro: 35\n"
     ]
    }
   ],
   "source": [
    "orcamento_livro = input (\"Digite quanto você pode gastar com livros: \")\n",
    "orcamento_livro = float (orcamento_livro)\n",
    "livro1 = input(\"Digite o valor do primeiro livro: \")\n",
    "livro1 = float(livro1)\n",
    "livro2 = input(\"Digite o valor do segundo livro: \")\n",
    "livro2 = float(livro2)"
   ]
  },
  {
   "cell_type": "code",
   "execution_count": 16,
   "id": "16179004",
   "metadata": {},
   "outputs": [
    {
     "name": "stdout",
     "output_type": "stream",
     "text": [
      "Com seu orçamento, vai dar para comprar os dois livros.\n"
     ]
    }
   ],
   "source": [
    "if livro1 + livro2 <= orcamento_livro:\n",
    "    print(\"Com seu orçamento, vai dar para comprar os dois livros.\")\n",
    "else: \n",
    "    if livro1 or livro2 <= orcamento_livro:\n",
    "        print(\"Com seu orçamento, só vai dar para comprar um dos livros.\")\n",
    "    print(\"Com seu orçamento, não vai dar para comprar os dois livros.\")"
   ]
  },
  {
   "cell_type": "code",
   "execution_count": null,
   "id": "69b9a34f",
   "metadata": {},
   "outputs": [],
   "source": []
  }
 ],
 "metadata": {
  "kernelspec": {
   "display_name": "Python 3 (ipykernel)",
   "language": "python",
   "name": "python3"
  },
  "language_info": {
   "codemirror_mode": {
    "name": "ipython",
    "version": 3
   },
   "file_extension": ".py",
   "mimetype": "text/x-python",
   "name": "python",
   "nbconvert_exporter": "python",
   "pygments_lexer": "ipython3",
   "version": "3.9.6"
  }
 },
 "nbformat": 4,
 "nbformat_minor": 5
}
