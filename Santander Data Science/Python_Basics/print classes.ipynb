{
 "cells": [
  {
   "cell_type": "code",
   "execution_count": 1,
   "id": "0f839e01",
   "metadata": {},
   "outputs": [],
   "source": [
    "a = 5"
   ]
  },
  {
   "cell_type": "code",
   "execution_count": 2,
   "id": "1a820668",
   "metadata": {},
   "outputs": [
    {
     "name": "stdout",
     "output_type": "stream",
     "text": [
      "<class 'int'>\n"
     ]
    }
   ],
   "source": [
    "print(type(a))"
   ]
  },
  {
   "cell_type": "code",
   "execution_count": 3,
   "id": "9871c304",
   "metadata": {},
   "outputs": [
    {
     "name": "stdout",
     "output_type": "stream",
     "text": [
      "20.5 <class 'float'>\n"
     ]
    }
   ],
   "source": [
    "preco = 20.50\n",
    "print (preco, type(preco))"
   ]
  },
  {
   "cell_type": "code",
   "execution_count": 5,
   "id": "79b758cf",
   "metadata": {},
   "outputs": [
    {
     "name": "stdout",
     "output_type": "stream",
     "text": [
      "Recife <class 'str'>\n"
     ]
    }
   ],
   "source": [
    "Cidade = \"Recife\"\n",
    "print (Cidade, type (Cidade))"
   ]
  },
  {
   "cell_type": "code",
   "execution_count": 6,
   "id": "aa6e09a7",
   "metadata": {},
   "outputs": [
    {
     "name": "stdout",
     "output_type": "stream",
     "text": [
      "True\n"
     ]
    }
   ],
   "source": [
    "disponivel = True\n",
    "print (disponivel)"
   ]
  },
  {
   "cell_type": "code",
   "execution_count": 7,
   "id": "fd72c6c9",
   "metadata": {},
   "outputs": [
    {
     "name": "stdout",
     "output_type": "stream",
     "text": [
      "<class 'bool'>\n"
     ]
    }
   ],
   "source": [
    "print (type (disponivel))"
   ]
  },
  {
   "cell_type": "code",
   "execution_count": null,
   "id": "35967b9d",
   "metadata": {},
   "outputs": [],
   "source": []
  }
 ],
 "metadata": {
  "kernelspec": {
   "display_name": "Python 3 (ipykernel)",
   "language": "python",
   "name": "python3"
  },
  "language_info": {
   "codemirror_mode": {
    "name": "ipython",
    "version": 3
   },
   "file_extension": ".py",
   "mimetype": "text/x-python",
   "name": "python",
   "nbconvert_exporter": "python",
   "pygments_lexer": "ipython3",
   "version": "3.9.6"
  }
 },
 "nbformat": 4,
 "nbformat_minor": 5
}
