{
 "cells": [
  {
   "cell_type": "code",
   "execution_count": 1,
   "id": "19f7062e",
   "metadata": {},
   "outputs": [
    {
     "name": "stdout",
     "output_type": "stream",
     "text": [
      "1 item limpo\n",
      "2 itens limpos\n",
      "3 itens limpos\n",
      "4 itens limpos\n",
      "5 itens limpos\n",
      "6 itens limpos\n",
      "7 itens limpos\n",
      "8 itens limpos\n",
      "9 itens limpos\n",
      "10 itens limpos\n",
      "Fim da reprodução\n"
     ]
    }
   ],
   "source": [
    "contador = 0 \n",
    "\n",
    "while contador<10:\n",
    "    contador = contador + 1\n",
    "    if contador == 1:\n",
    "        print(contador, \"item limpo\")\n",
    "    else:\n",
    "        print(contador, \"itens limpos\")\n",
    "\n",
    "print(\"Fim da reprodução\")"
   ]
  },
  {
   "cell_type": "code",
   "execution_count": 2,
   "id": "f43b8352",
   "metadata": {},
   "outputs": [
    {
     "name": "stdout",
     "output_type": "stream",
     "text": [
      "1 item removido\n",
      "2 itens removidos\n",
      "3 itens removidos\n",
      "4 itens removidos\n",
      "5 itens removidos\n",
      "6 itens removidos\n",
      "7 itens removidos\n",
      "8 itens removidos\n",
      "9 itens removidos\n",
      "10 itens removidos\n",
      "Contagem finalizada\n"
     ]
    }
   ],
   "source": [
    "contador = 0\n",
    "\n",
    "while True:\n",
    "    if contador < 10:\n",
    "        contador  = contador + 1\n",
    "        if contador == 1: \n",
    "            print(contador, \"item removido\")\n",
    "        else:\n",
    "            print(contador, \"itens removidos\")\n",
    "    else:\n",
    "        break\n",
    "        \n",
    "print(\"Contagem finalizada\")"
   ]
  },
  {
   "cell_type": "code",
   "execution_count": 4,
   "id": "1a898d75",
   "metadata": {},
   "outputs": [
    {
     "name": "stdout",
     "output_type": "stream",
     "text": [
      "Digite sua senha: letscode\n",
      "Senha Inválida! Tente novamente.Letscode\n",
      "Senha Inválida! Tente novamente.LetsCode\n",
      "Bem-vindo\n"
     ]
    }
   ],
   "source": [
    "texto = input(\"Digite sua senha: \")\n",
    "\n",
    "while texto != 'LetsCode':\n",
    "    texto = input(\"Senha Inválida! Tente novamente.\")\n",
    "print(\"Bem-vindo\")"
   ]
  },
  {
   "cell_type": "code",
   "execution_count": null,
   "id": "a3c7192f",
   "metadata": {},
   "outputs": [],
   "source": [
    "contador = 0\n",
    "\n",
    "while contador < 10:\n",
    "    contador = contador + 1\n",
    "    if contador == 1:\n",
    "        continue\n",
    "    print(contador, \"itens removidos\")    \n",
    "\n",
    "print(\"Contagem finalizada\")"
   ]
  }
 ],
 "metadata": {
  "kernelspec": {
   "display_name": "Python 3 (ipykernel)",
   "language": "python",
   "name": "python3"
  },
  "language_info": {
   "codemirror_mode": {
    "name": "ipython",
    "version": 3
   },
   "file_extension": ".py",
   "mimetype": "text/x-python",
   "name": "python",
   "nbconvert_exporter": "python",
   "pygments_lexer": "ipython3",
   "version": "3.9.6"
  }
 },
 "nbformat": 4,
 "nbformat_minor": 5
}
