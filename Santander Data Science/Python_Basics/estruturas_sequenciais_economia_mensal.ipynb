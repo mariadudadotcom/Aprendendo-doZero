{
 "cells": [
  {
   "cell_type": "code",
   "execution_count": 2,
   "id": "99da3858",
   "metadata": {},
   "outputs": [
    {
     "name": "stdout",
     "output_type": "stream",
     "text": [
      "Informe seu salário mensal: 1100\n",
      "Informe seu gasto mensal: 990\n",
      "O valor que pode ser economizado ao fim do ano é de:  1320.0\n"
     ]
    }
   ],
   "source": [
    "salario_mensal = input(\"Informe seu salário mensal: \")\n",
    "salario_mensal = float(salario_mensal)\n",
    "\n",
    "gasto_mensal = input(\"Informe seu gasto mensal: \")\n",
    "gasto_mensal = float(gasto_mensal)\n",
    "\n",
    "salario_total = salario_mensal * 12\n",
    "gasto_total = gasto_mensal * 12 \n",
    "\n",
    "economizado = salario_total - gasto_total\n",
    "print(\"O valor que pode ser economizado ao fim do ano é de: \", economizado)"
   ]
  },
  {
   "cell_type": "code",
   "execution_count": null,
   "id": "e38b32dd",
   "metadata": {},
   "outputs": [],
   "source": []
  }
 ],
 "metadata": {
  "kernelspec": {
   "display_name": "Python 3 (ipykernel)",
   "language": "python",
   "name": "python3"
  },
  "language_info": {
   "codemirror_mode": {
    "name": "ipython",
    "version": 3
   },
   "file_extension": ".py",
   "mimetype": "text/x-python",
   "name": "python",
   "nbconvert_exporter": "python",
   "pygments_lexer": "ipython3",
   "version": "3.9.6"
  }
 },
 "nbformat": 4,
 "nbformat_minor": 5
}
