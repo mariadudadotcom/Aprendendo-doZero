{
 "cells": [
  {
   "cell_type": "code",
   "execution_count": 4,
   "id": "53b03790",
   "metadata": {},
   "outputs": [
    {
     "name": "stdout",
     "output_type": "stream",
     "text": [
      "2020\n",
      "2019\n",
      "2018\n",
      "2017\n",
      "2016\n",
      "2015\n",
      "2014\n",
      "2013\n",
      "2012\n",
      "2011\n",
      "2010\n",
      "2009\n",
      "2008\n",
      "2007\n",
      "2006\n",
      "2005\n"
     ]
    }
   ],
   "source": [
    "anos = [2020, 2019, 2018, 2017, 2016, 2015, 2014, 2013, 2012, 2011, 2010, 2009, 2008, 2007, 2006, 2005, 2004, 2003, 2002, 2001]\n",
    "\n",
    "indice = 0 \n",
    "while indice <= 15:\n",
    "    print(anos[indice])\n",
    "    indice = indice + 1"
   ]
  },
  {
   "cell_type": "code",
   "execution_count": 11,
   "id": "228a213a",
   "metadata": {},
   "outputs": [
    {
     "name": "stdout",
     "output_type": "stream",
     "text": [
      "Deseja adicionar o nome de um amigo? s/n: s\n",
      "Digite o nome do(a) amigo(a): Dressa\n",
      "Deseja adicionar o nome de um amigo? s/n: s\n",
      "Digite o nome do(a) amigo(a): Geo\n",
      "Deseja adicionar o nome de um amigo? s/n: s\n",
      "Digite o nome do(a) amigo(a): Thayná\n",
      "Deseja adicionar o nome de um amigo? s/n: s\n",
      "Digite o nome do(a) amigo(a): Alessandro\n",
      "Deseja adicionar o nome de um amigo? s/n: s\n",
      "Digite o nome do(a) amigo(a): Brendão\n",
      "Deseja adicionar o nome de um amigo? s/n: s\n",
      "Digite o nome do(a) amigo(a): Carlos\n",
      "Deseja adicionar o nome de um amigo? s/n: s\n",
      "Digite o nome do(a) amigo(a): Cauan\n",
      "Deseja adicionar o nome de um amigo? s/n: s\n",
      "Digite o nome do(a) amigo(a): Cayo\n",
      "Deseja adicionar o nome de um amigo? s/n: s\n",
      "Digite o nome do(a) amigo(a): José\n",
      "Deseja adicionar o nome de um amigo? s/n: n\n",
      "Você quer retirar alguém da lista? s/n: s\n",
      "Digite o nome que deseja retirar: Thayná\n",
      "Lista de amigos:  ['Dressa', 'Geo', 'Alessandro', 'Brendão', 'Carlos', 'Cauan', 'Cayo', 'José']\n",
      "<built-in method count of list object at 0x000001EE47C10E40>\n"
     ]
    }
   ],
   "source": [
    "amigos = []\n",
    "resposta = 's'\n",
    "retirar = 's'\n",
    "\n",
    "while resposta == 's' or resposta == 'S':\n",
    "    resposta = input ('Deseja adicionar o nome de um amigo? s/n: ')\n",
    "    if (resposta == 's' or resposta == 'S'):\n",
    "        amigo = input('Digite o nome do(a) amigo(a): ')\n",
    "        amigos.append (amigo)\n",
    "    elif resposta == 'n' or resposta == 'N':\n",
    "        amigo = input('Você quer retirar alguém da lista? s/n: ')\n",
    "        if retirar == 's' or retirar == 'S':\n",
    "            amigo = input('Digite o nome que deseja retirar: ')\n",
    "            amigos.remove(amigo)\n",
    "print('Lista de amigos: ', amigos)"
   ]
  },
  {
   "cell_type": "code",
   "execution_count": 30,
   "id": "33bbf9dd",
   "metadata": {},
   "outputs": [
    {
     "name": "stdout",
     "output_type": "stream",
     "text": [
      "['Dressa', 'Cayo', 'Geo', 'Thayná', 'José', 'Alessandro', 'Brendão', 'Carlos']\n",
      "Ordem Alfabética ['Alessandro', 'Brendão', 'Carlos', 'Cayo', 'Dressa', 'Geo', 'José', 'Thayná']\n"
     ]
    }
   ],
   "source": [
    "amizades = ['Dressa','Cayo', 'Geo', 'Thayná', 'José', 'Alessandro', 'Brendão', 'Carlos']\n",
    "amigos = amizades.count(amigos)\n",
    "print(amizades)\n",
    "\n",
    "amizades.sort()\n",
    "print('Ordem Alfabética', amizades)"
   ]
  },
  {
   "cell_type": "code",
   "execution_count": 39,
   "id": "8c8e75e2",
   "metadata": {},
   "outputs": [
    {
     "name": "stdout",
     "output_type": "stream",
     "text": [
      "Lana del Rey\n",
      "<class 'tuple'>\n"
     ]
    }
   ],
   "source": [
    "artistas = ('Marsmello','Justin Bieber','Lana del Rey','Tove Lo')\n",
    "print(artistas[2])\n",
    "print(type(artistas))"
   ]
  },
  {
   "cell_type": "code",
   "execution_count": 41,
   "id": "d6ab5f6b",
   "metadata": {},
   "outputs": [
    {
     "name": "stdout",
     "output_type": "stream",
     "text": [
      "('911', 'Rain on Me', 'Stupid Love', 'Sour Candy')\n",
      "<class 'tuple'>\n",
      "<class 'list'>\n"
     ]
    }
   ],
   "source": [
    "musicas = ['911', 'Rain on Me', 'Stupid Love', 'Sour Candy']\n",
    "LadyGaga = tuple(musicas)\n",
    "print(LadyGaga)\n",
    "print(type(LadyGaga))\n",
    "print(type(musicas))"
   ]
  },
  {
   "cell_type": "code",
   "execution_count": null,
   "id": "5e7a53a0",
   "metadata": {},
   "outputs": [],
   "source": []
  }
 ],
 "metadata": {
  "kernelspec": {
   "display_name": "Python 3 (ipykernel)",
   "language": "python",
   "name": "python3"
  },
  "language_info": {
   "codemirror_mode": {
    "name": "ipython",
    "version": 3
   },
   "file_extension": ".py",
   "mimetype": "text/x-python",
   "name": "python",
   "nbconvert_exporter": "python",
   "pygments_lexer": "ipython3",
   "version": "3.9.6"
  }
 },
 "nbformat": 4,
 "nbformat_minor": 5
}
