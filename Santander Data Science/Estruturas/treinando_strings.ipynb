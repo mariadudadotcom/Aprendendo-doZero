{
 "cells": [
  {
   "cell_type": "code",
   "execution_count": 12,
   "id": "3bda8e44",
   "metadata": {},
   "outputs": [
    {
     "name": "stdout",
     "output_type": "stream",
     "text": [
      "fones de ouvido\n",
      "<class 'str'>\n"
     ]
    }
   ],
   "source": [
    "nome_objeto = \"fones de ouvido\"\n",
    "print(nome_objeto)\n",
    "print(type(nome_objeto))"
   ]
  },
  {
   "cell_type": "code",
   "execution_count": 25,
   "id": "3434fb49",
   "metadata": {},
   "outputs": [
    {
     "name": "stdout",
     "output_type": "stream",
     "text": [
      "['f', 'o', 'n', 'e', 's', ' ', 'd', 'e', ' ', 'o', 'u', 'v', 'i', 'd', 'o']\n",
      "<class 'list'>\n",
      "f-o-n-e-s- -d-e- -o-u-v-i-d-o\n",
      "fones de ouvido\n",
      "<class 'str'>\n"
     ]
    }
   ],
   "source": [
    "nome_objeto = \"fones de ouvido\"\n",
    "nome_objeto = list(nome_objeto)\n",
    "print(nome_objeto)\n",
    "print(type(nome_objeto))\n",
    "\n",
    "stringfinal = '-'.join(nome_objeto)\n",
    "print(stringfinal)\n",
    "\n",
    "stringfinal = ''.join(nome_objeto)\n",
    "nome_objeto = ''.join(stringfinal)\n",
    "print(nome_objeto)\n",
    "print(type(nome_objeto))"
   ]
  },
  {
   "cell_type": "code",
   "execution_count": 26,
   "id": "7f9c1686",
   "metadata": {},
   "outputs": [
    {
     "name": "stdout",
     "output_type": "stream",
     "text": [
      "['fones', 'de', 'ouvido']\n"
     ]
    }
   ],
   "source": [
    "nome_objeto = \"fones de ouvido\"\n",
    "quebra_frase = nome_objeto.split(' ')\n",
    "print(quebra_frase)"
   ]
  },
  {
   "cell_type": "code",
   "execution_count": 27,
   "id": "2193f3eb",
   "metadata": {},
   "outputs": [
    {
     "name": "stdout",
     "output_type": "stream",
     "text": [
      "That's the price you pay\n",
      "Leave behind your heart and cast away\n",
      "Just another product of today\n",
      "Rather be the hunter than the prey\n",
      "And you're standing on the edge, face up\n"
     ]
    }
   ],
   "source": [
    "natural_pre_chorus = \"That's the price you pay\\nLeave behind your heart and cast away\\nJust another product of today\\nRather be the hunter than the prey\\nAnd you're standing on the edge, face up\"\n",
    "print(natural_pre_chorus)"
   ]
  },
  {
   "cell_type": "code",
   "execution_count": 29,
   "id": "989105f7",
   "metadata": {},
   "outputs": [
    {
     "name": "stdout",
     "output_type": "stream",
     "text": [
      "Cause you're a natural\n",
      "\tA beating heart of stone\n",
      "\tYou gotta be so cold\n",
      "\tTo make it in this world\n",
      "Yeah, you're a natural\n",
      "\tLiving your life cutthroat\n",
      "\tYou gotta be so cold\n",
      "\tYeah, you're a natural\n"
     ]
    }
   ],
   "source": [
    "natural_chorus = \"Cause you're a natural\\n\\tA beating heart of stone\\n\\tYou gotta be so cold\\n\\tTo make it in this world\\nYeah, you're a natural\\n\\tLiving your life cutthroat\\n\\tYou gotta be so cold\\n\\tYeah, you're a natural\"\n",
    "print(natural_chorus)"
   ]
  },
  {
   "cell_type": "code",
   "execution_count": 30,
   "id": "d1d4c36b",
   "metadata": {},
   "outputs": [
    {
     "name": "stdout",
     "output_type": "stream",
     "text": [
      "Thunder\\Radioactive\\Birds\\Natural\n"
     ]
    }
   ],
   "source": [
    "musicas_famosas = \"Thunder\\\\Radioactive\\\\Birds\\\\Natural\"\n",
    "print(musicas_famosas)"
   ]
  },
  {
   "cell_type": "code",
   "execution_count": null,
   "id": "cdb75a60",
   "metadata": {},
   "outputs": [],
   "source": []
  }
 ],
 "metadata": {
  "kernelspec": {
   "display_name": "Python 3 (ipykernel)",
   "language": "python",
   "name": "python3"
  },
  "language_info": {
   "codemirror_mode": {
    "name": "ipython",
    "version": 3
   },
   "file_extension": ".py",
   "mimetype": "text/x-python",
   "name": "python",
   "nbconvert_exporter": "python",
   "pygments_lexer": "ipython3",
   "version": "3.9.6"
  }
 },
 "nbformat": 4,
 "nbformat_minor": 5
}
