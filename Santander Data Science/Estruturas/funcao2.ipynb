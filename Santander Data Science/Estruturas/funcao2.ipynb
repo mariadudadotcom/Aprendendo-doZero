{
 "cells": [
  {
   "cell_type": "code",
   "execution_count": 1,
   "id": "a911f67d",
   "metadata": {},
   "outputs": [],
   "source": [
    "def calcula_media(*notas):\n",
    "    print(notas, type(notas))"
   ]
  },
  {
   "cell_type": "code",
   "execution_count": 2,
   "id": "842468ab",
   "metadata": {},
   "outputs": [
    {
     "name": "stdout",
     "output_type": "stream",
     "text": [
      "(10, 8, 9) <class 'tuple'>\n"
     ]
    }
   ],
   "source": [
    "calcula_media(10, 8, 9)"
   ]
  },
  {
   "cell_type": "code",
   "execution_count": 14,
   "id": "7ef7539a",
   "metadata": {},
   "outputs": [],
   "source": [
    "def calcula_media(*notas, margem):\n",
    "    soma = sum(notas)\n",
    "    media = soma / len(notas)\n",
    "    return media + margem"
   ]
  },
  {
   "cell_type": "code",
   "execution_count": 16,
   "id": "0e447f96",
   "metadata": {},
   "outputs": [
    {
     "data": {
      "text/plain": [
       "7.675"
      ]
     },
     "execution_count": 16,
     "metadata": {},
     "output_type": "execute_result"
    }
   ],
   "source": [
    "calcula_media(7.5, 8, 5.5, 8.5, margem=0.3)"
   ]
  },
  {
   "cell_type": "code",
   "execution_count": 17,
   "id": "522e11e2",
   "metadata": {},
   "outputs": [],
   "source": [
    "def print_info(**base):\n",
    "    print(base, type(base))"
   ]
  },
  {
   "cell_type": "code",
   "execution_count": 18,
   "id": "aada66d6",
   "metadata": {},
   "outputs": [
    {
     "name": "stdout",
     "output_type": "stream",
     "text": [
      "{'nome': 'José', 'sobrenome': 'Silva'} <class 'dict'>\n"
     ]
    }
   ],
   "source": [
    "print_info(nome=\"José\", sobrenome=\"Silva\")"
   ]
  },
  {
   "cell_type": "code",
   "execution_count": null,
   "id": "2e9eee30",
   "metadata": {},
   "outputs": [],
   "source": []
  }
 ],
 "metadata": {
  "kernelspec": {
   "display_name": "Python 3 (ipykernel)",
   "language": "python",
   "name": "python3"
  },
  "language_info": {
   "codemirror_mode": {
    "name": "ipython",
    "version": 3
   },
   "file_extension": ".py",
   "mimetype": "text/x-python",
   "name": "python",
   "nbconvert_exporter": "python",
   "pygments_lexer": "ipython3",
   "version": "3.9.6"
  }
 },
 "nbformat": 4,
 "nbformat_minor": 5
}
