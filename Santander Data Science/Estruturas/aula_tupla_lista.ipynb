{
 "cells": [
  {
   "cell_type": "code",
   "execution_count": 10,
   "id": "0e943458",
   "metadata": {},
   "outputs": [
    {
     "name": "stdout",
     "output_type": "stream",
     "text": [
      "Tamanho da lista: 5\n"
     ]
    }
   ],
   "source": [
    "nomes_paises = ['Rússia', 'Canadá', 'China', 'Estados Unidos', 'Brasil']\n",
    "\n",
    "print('Tamanho da lista:', len(nomes_paises))"
   ]
  },
  {
   "cell_type": "code",
   "execution_count": 11,
   "id": "1bfa2126",
   "metadata": {},
   "outputs": [
    {
     "name": "stdout",
     "output_type": "stream",
     "text": [
      "País: Brasil\n"
     ]
    }
   ],
   "source": [
    "print('País:', nomes_paises [4])"
   ]
  },
  {
   "cell_type": "code",
   "execution_count": 12,
   "id": "b0f9463c",
   "metadata": {},
   "outputs": [
    {
     "name": "stdout",
     "output_type": "stream",
     "text": [
      "País: Canadá\n"
     ]
    }
   ],
   "source": [
    "print('País:', nomes_paises [-4])"
   ]
  },
  {
   "cell_type": "code",
   "execution_count": 14,
   "id": "8dc769bb",
   "metadata": {},
   "outputs": [
    {
     "name": "stdout",
     "output_type": "stream",
     "text": [
      "['Rússia', 'Canadá', 'China', 'Argentina', 'Brasil']\n"
     ]
    }
   ],
   "source": [
    "nomes_paises[3] = 'Argentina'\n",
    "print(nomes_paises)"
   ]
  },
  {
   "cell_type": "code",
   "execution_count": 17,
   "id": "b64b0077",
   "metadata": {},
   "outputs": [
    {
     "name": "stdout",
     "output_type": "stream",
     "text": [
      "['Rússia', 'China', 'Brasil']\n",
      "['Brasil', 'China', 'Rússia']\n"
     ]
    }
   ],
   "source": [
    "print(nomes_paises[::2])\n",
    "print(nomes_paises[::-2])"
   ]
  },
  {
   "cell_type": "code",
   "execution_count": 18,
   "id": "8ce91a8d",
   "metadata": {},
   "outputs": [
    {
     "name": "stdout",
     "output_type": "stream",
     "text": [
      "True\n"
     ]
    }
   ],
   "source": [
    "print('Argentina' in nomes_paises)"
   ]
  },
  {
   "cell_type": "code",
   "execution_count": 56,
   "id": "1804ae06",
   "metadata": {},
   "outputs": [
    {
     "name": "stdout",
     "output_type": "stream",
     "text": [
      "[]\n"
     ]
    }
   ],
   "source": [
    "lista_capitais = []\n",
    "print(lista_capitais)"
   ]
  },
  {
   "cell_type": "code",
   "execution_count": 57,
   "id": "8b024bce",
   "metadata": {},
   "outputs": [
    {
     "name": "stdout",
     "output_type": "stream",
     "text": [
      "['Rio Branco', 'Maceio', 'Macapá', 'Manaus', 'Salvador', 'Fortaleza', 'Vitória', 'Goiânia', 'São Luís', 'Cuiabá', 'Campo Grande', 'Belo Horizonte', 'Belém', 'João Pessoa', 'Curitiba', 'Recife']\n"
     ]
    }
   ],
   "source": [
    "lista_capitais.append('Rio Branco')\n",
    "lista_capitais.append('Maceio')\n",
    "lista_capitais.append('Macapá')\n",
    "lista_capitais.append('Manaus')\n",
    "lista_capitais.append('Salvador')\n",
    "lista_capitais.append('Fortaleza')\n",
    "lista_capitais.append('Vitória')\n",
    "lista_capitais.append('Goiânia')\n",
    "lista_capitais.append('São Luís')\n",
    "lista_capitais.append('Cuiabá')\n",
    "lista_capitais.append('Campo Grande')\n",
    "lista_capitais.append('Belo Horizonte')\n",
    "lista_capitais.append('Belém')\n",
    "lista_capitais.append('João Pessoa')\n",
    "lista_capitais.append('Curitiba')\n",
    "lista_capitais.append('Recife') \n",
    "\n",
    "print(lista_capitais)"
   ]
  },
  {
   "cell_type": "code",
   "execution_count": 58,
   "id": "4db005f3",
   "metadata": {},
   "outputs": [
    {
     "name": "stdout",
     "output_type": "stream",
     "text": [
      "['Rio Branco', 'Maceio', 'Macapá', 'Manaus', 'Salvador', 'Fortaleza', 'Vitória', 'Brasilia', 'Goiânia', 'São Luís', 'Cuiabá', 'Campo Grande', 'Belo Horizonte', 'Belém', 'João Pessoa', 'Curitiba', 'Recife']\n"
     ]
    }
   ],
   "source": [
    "lista_capitais.insert(7, 'Brasilia')\n",
    "print(lista_capitais)"
   ]
  },
  {
   "cell_type": "code",
   "execution_count": 60,
   "id": "c4f40d97",
   "metadata": {},
   "outputs": [
    {
     "name": "stdout",
     "output_type": "stream",
     "text": [
      "['Rio Branco', 'Maceio', 'Macapá', 'Manaus', 'Salvador', 'Fortaleza', 'Vitória', 'Brasilia', 'Goiânia', 'São Luís', 'Cuiabá', 'Campo Grande', 'Belo Horizonte', 'Belém', 'João Pessoa', 'Curitiba', 'Recife', 'Teresina', 'Teresina']\n"
     ]
    }
   ],
   "source": [
    "lista_capitais.insert(17, 'Teresina')\n",
    "print(lista_capitais)"
   ]
  },
  {
   "cell_type": "code",
   "execution_count": 61,
   "id": "55e4c90a",
   "metadata": {},
   "outputs": [
    {
     "name": "stdout",
     "output_type": "stream",
     "text": [
      "['Rio Branco', 'Maceio', 'Macapá', 'Manaus', 'Salvador', 'Fortaleza', 'Vitória', 'Brasilia', 'Goiânia', 'São Luís', 'Cuiabá', 'Campo Grande', 'Belo Horizonte', 'Belém', 'João Pessoa', 'Curitiba', 'Recife', 'Teresina']\n"
     ]
    }
   ],
   "source": [
    "lista_capitais.remove('Teresina')\n",
    "print(lista_capitais)"
   ]
  },
  {
   "cell_type": "code",
   "execution_count": 62,
   "id": "8b88ec9c",
   "metadata": {},
   "outputs": [
    {
     "data": {
      "text/plain": [
       "18"
      ]
     },
     "execution_count": 62,
     "metadata": {},
     "output_type": "execute_result"
    }
   ],
   "source": [
    "len(lista_capitais)"
   ]
  },
  {
   "cell_type": "code",
   "execution_count": 67,
   "id": "be08166f",
   "metadata": {},
   "outputs": [
    {
     "name": "stdout",
     "output_type": "stream",
     "text": [
      "('Acre', 'Alagoas', 'Amapá', 'Amazonas', 'Bahia') <class 'tuple'>\n"
     ]
    },
    {
     "data": {
      "text/plain": [
       "5"
      ]
     },
     "execution_count": 67,
     "metadata": {},
     "output_type": "execute_result"
    }
   ],
   "source": [
    "estados_brasil = ('Acre', 'Alagoas', 'Amapá', 'Amazonas', 'Bahia')\n",
    "print(estados_brasil, type(estados_brasil))\n",
    "len(estados_brasil)"
   ]
  },
  {
   "cell_type": "code",
   "execution_count": 68,
   "id": "bd769da6",
   "metadata": {},
   "outputs": [
    {
     "name": "stdout",
     "output_type": "stream",
     "text": [
      "Acre Amapá Bahia\n"
     ]
    }
   ],
   "source": [
    "AC, AL, AP, AM, BA = estados_brasil\n",
    "print(AC, AP, BA)"
   ]
  },
  {
   "cell_type": "code",
   "execution_count": 69,
   "id": "0a8ef393",
   "metadata": {},
   "outputs": [
    {
     "name": "stdout",
     "output_type": "stream",
     "text": [
      "Acre Alagoas Amapá Amazonas Bahia\n"
     ]
    }
   ],
   "source": [
    "print(*estados_brasil)"
   ]
  }
 ],
 "metadata": {
  "kernelspec": {
   "display_name": "Python 3 (ipykernel)",
   "language": "python",
   "name": "python3"
  },
  "language_info": {
   "codemirror_mode": {
    "name": "ipython",
    "version": 3
   },
   "file_extension": ".py",
   "mimetype": "text/x-python",
   "name": "python",
   "nbconvert_exporter": "python",
   "pygments_lexer": "ipython3",
   "version": "3.9.6"
  }
 },
 "nbformat": 4,
 "nbformat_minor": 5
}
