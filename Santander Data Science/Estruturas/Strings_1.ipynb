{
 "cells": [
  {
   "cell_type": "code",
   "execution_count": 1,
   "id": "72eff567",
   "metadata": {},
   "outputs": [
    {
     "name": "stdout",
     "output_type": "stream",
     "text": [
      "Ayrton Senna possui várias frases polemicas e uma delas é: \"O segundo nada mais é do que o primeiro dos perdedores.\". O que voce acha desta colocação?\n"
     ]
    }
   ],
   "source": [
    "frase = \"Ayrton Senna possui várias frases polemicas e uma delas é: \\\"O segundo nada mais é do que o primeiro dos perdedores.\\\". O que voce acha desta colocação?\"\n",
    "print(frase)"
   ]
  },
  {
   "cell_type": "code",
   "execution_count": 2,
   "id": "be282899",
   "metadata": {},
   "outputs": [
    {
     "name": "stdout",
     "output_type": "stream",
     "text": [
      "y\n"
     ]
    }
   ],
   "source": [
    "Piloto = \"Ayrton Senna\"\n",
    "print(Piloto[1])"
   ]
  },
  {
   "cell_type": "code",
   "execution_count": 3,
   "id": "1e9a6118",
   "metadata": {},
   "outputs": [
    {
     "name": "stdout",
     "output_type": "stream",
     "text": [
      "Ayrton S\n"
     ]
    }
   ],
   "source": [
    "Piloto = \"Ayrton Senna\"\n",
    "print(Piloto[:8])"
   ]
  },
  {
   "cell_type": "code",
   "execution_count": 4,
   "id": "ee643a7e",
   "metadata": {},
   "outputs": [
    {
     "name": "stdout",
     "output_type": "stream",
     "text": [
      "['Star Wars', 'Star Trek', 'Lord Of The Rings', 'Terminator', 'Batman']\n"
     ]
    }
   ],
   "source": [
    "nome_franquias = \"Star Wars, Star Trek, Lord Of The Rings, Terminator, Batman\"\n",
    "nome_franquias = nome_franquias.split(', ')\n",
    "print(nome_franquias)"
   ]
  },
  {
   "cell_type": "code",
   "execution_count": 9,
   "id": "db2b5351",
   "metadata": {},
   "outputs": [
    {
     "name": "stdout",
     "output_type": "stream",
     "text": [
      "Charlie Brown Jr.\n",
      "Charlie brown jr.\n",
      "CHARLIE BROWN JR.\n",
      "charlie brown jr.\n"
     ]
    }
   ],
   "source": [
    "nome_banda = \"Charlie Brown Jr.\"\n",
    "\n",
    "print(nome_banda.title())\n",
    "print(nome_banda.capitalize())\n",
    "print(nome_banda.upper())\n",
    "print(nome_banda.lower())"
   ]
  },
  {
   "cell_type": "code",
   "execution_count": 12,
   "id": "1a423ddd",
   "metadata": {},
   "outputs": [
    {
     "name": "stdout",
     "output_type": "stream",
     "text": [
      "Qual o nome da banda de Rock brasileira formada em Santos no ano de 1992? Charlie Brown Jr.\n",
      "Tamo junto, parabéns!\n"
     ]
    }
   ],
   "source": [
    "nome_banda = input(\"Qual o nome da banda de Rock brasileira formada em Santos no ano de 1992? \")\n",
    "nome_banda = nome_banda.strip()\n",
    "while nome_banda.lower() != 'charlie brown jr.':\n",
    "    print('Resposta inválida, tente novamente.')\n",
    "    nome_banda = input(\"Qual o nome da banda de Rock brasileira formada em Santos no ano de 1992? \")\n",
    "print('Tamo junto, parabéns!')"
   ]
  },
  {
   "cell_type": "code",
   "execution_count": 14,
   "id": "0850f689",
   "metadata": {},
   "outputs": [
    {
     "name": "stdout",
     "output_type": "stream",
     "text": [
      "o nome do Chorão possui:  21 letras\n"
     ]
    }
   ],
   "source": [
    "nome = 'Alexandre Magno Abrão'\n",
    "tamanho = len(nome)\n",
    "print('o nome do Chorão possui: ', tamanho, 'letras')"
   ]
  },
  {
   "cell_type": "code",
   "execution_count": null,
   "id": "f2f51022",
   "metadata": {},
   "outputs": [],
   "source": []
  }
 ],
 "metadata": {
  "kernelspec": {
   "display_name": "Python 3 (ipykernel)",
   "language": "python",
   "name": "python3"
  },
  "language_info": {
   "codemirror_mode": {
    "name": "ipython",
    "version": 3
   },
   "file_extension": ".py",
   "mimetype": "text/x-python",
   "name": "python",
   "nbconvert_exporter": "python",
   "pygments_lexer": "ipython3",
   "version": "3.9.6"
  }
 },
 "nbformat": 4,
 "nbformat_minor": 5
}
