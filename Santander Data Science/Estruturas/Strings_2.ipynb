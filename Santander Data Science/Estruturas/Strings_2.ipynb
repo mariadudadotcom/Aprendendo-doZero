{
 "cells": [
  {
   "cell_type": "code",
   "execution_count": 1,
   "id": "2ba3a4c9",
   "metadata": {},
   "outputs": [
    {
     "name": "stdout",
     "output_type": "stream",
     "text": [
      "Digite o seu nome: Maria\n",
      "Olá, Maria\n"
     ]
    }
   ],
   "source": [
    "cumprimento = \"Olá, \"\n",
    "nome = input(\"Digite o seu nome: \")\n",
    "print(cumprimento + nome)"
   ]
  },
  {
   "cell_type": "code",
   "execution_count": 14,
   "id": "df6be47f",
   "metadata": {},
   "outputs": [
    {
     "name": "stdout",
     "output_type": "stream",
     "text": [
      "Digite o seu nome: José\n",
      "Digite sua idade: 22\n",
      "Você possui filhos? (s/n) n\n",
      "Olá, José. Voce tem 22 anos e 0 filho(s).\n"
     ]
    }
   ],
   "source": [
    "nome = input(\"Digite o seu nome: \")\n",
    "idade = input(\"Digite sua idade: \")\n",
    "filho = 's'\n",
    "filhos = input(\"Você possui filhos? (s/n) \")\n",
    "if (filhos) == \"s\":\n",
    "    filhos = input(\"Quantos? \")\n",
    "    filhos == filho\n",
    "else:\n",
    "    filhos = 0\n",
    "print('Olá, {}. Voce tem {} anos e {} filho(s).'.format(nome,idade,filhos))"
   ]
  },
  {
   "cell_type": "code",
   "execution_count": 18,
   "id": "2a0335ce",
   "metadata": {},
   "outputs": [
    {
     "name": "stdout",
     "output_type": "stream",
     "text": [
      "Olá, José. Voce tem 22 anos e 0 filho(s).\n"
     ]
    }
   ],
   "source": [
    "print(f'Olá, {nome}. Voce tem {idade} anos e {filhos} filho(s).')"
   ]
  },
  {
   "cell_type": "code",
   "execution_count": null,
   "id": "d6435a71",
   "metadata": {},
   "outputs": [],
   "source": []
  }
 ],
 "metadata": {
  "kernelspec": {
   "display_name": "Python 3 (ipykernel)",
   "language": "python",
   "name": "python3"
  },
  "language_info": {
   "codemirror_mode": {
    "name": "ipython",
    "version": 3
   },
   "file_extension": ".py",
   "mimetype": "text/x-python",
   "name": "python",
   "nbconvert_exporter": "python",
   "pygments_lexer": "ipython3",
   "version": "3.9.6"
  }
 },
 "nbformat": 4,
 "nbformat_minor": 5
}
