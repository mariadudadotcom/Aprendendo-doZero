{
 "cells": [
  {
   "cell_type": "code",
   "execution_count": 1,
   "id": "bd794b36",
   "metadata": {},
   "outputs": [],
   "source": [
    "def media_ingles_2013(bim1, bim2, bim3, bim4):\n",
    "    soma = bim1 + bim2 + bim3 + bim4\n",
    "    media = soma / 4\n",
    "    return media"
   ]
  },
  {
   "cell_type": "code",
   "execution_count": 4,
   "id": "dd31e19f",
   "metadata": {},
   "outputs": [
    {
     "name": "stdout",
     "output_type": "stream",
     "text": [
      "8.125\n"
     ]
    }
   ],
   "source": [
    "resultado = media_ingles_2013(8.5, 5.0, 9.5, 9.5)\n",
    "print(resultado)"
   ]
  },
  {
   "cell_type": "code",
   "execution_count": 6,
   "id": "ab992ba9",
   "metadata": {},
   "outputs": [
    {
     "name": "stdout",
     "output_type": "stream",
     "text": [
      "não quebra linha\n"
     ]
    }
   ],
   "source": [
    "print('não quebra', end= ' ')\n",
    "print('linha')"
   ]
  },
  {
   "cell_type": "code",
   "execution_count": 22,
   "id": "20c4fc43",
   "metadata": {},
   "outputs": [
    {
     "name": "stdout",
     "output_type": "stream",
     "text": [
      "Seu nome é Ana, você tem 25 anos e mora em João Pessoa.\n"
     ]
    }
   ],
   "source": [
    "def dadospessoais(nome, idade, cidade):\n",
    "    print(\"Seu nome é {}, você tem {} anos e mora em {}.\".format(nome, idade, cidade))\n",
    "dadospessoais(\"Ana\", 25, \"João Pessoa\")"
   ]
  },
  {
   "cell_type": "code",
   "execution_count": 23,
   "id": "ed9fffda",
   "metadata": {},
   "outputs": [
    {
     "name": "stdout",
     "output_type": "stream",
     "text": [
      "Seu nome é Ana, você possui 25 anos e mora em João Pessoa.\n"
     ]
    }
   ],
   "source": [
    "def dadospessoais(nome, idade, cidade):\n",
    "    print(\"Seu nome é {}, você possui {} anos e mora em {}.\".format(nome, idade, cidade))\n",
    "dadospessoais(idade = 25, cidade = \"João Pessoa\", nome = \"Ana\")"
   ]
  },
  {
   "cell_type": "code",
   "execution_count": 73,
   "id": "94b3d76e",
   "metadata": {},
   "outputs": [
    {
     "name": "stdout",
     "output_type": "stream",
     "text": [
      "Sua média anual foi de:  7.0\n",
      "Parabéns, você foi aprovado\n"
     ]
    }
   ],
   "source": [
    "#teste com média em quatro bimestres\n",
    "def media_escolar(medias):\n",
    "    nota = 0\n",
    "    for item in medias:\n",
    "        nota = nota + item / 4\n",
    "    return nota\n",
    "\n",
    "notas = [5.5, 6.5, 8.5, 7.5]\n",
    "mediana = media_escolar(notas)\n",
    "\n",
    "print(\"Sua média anual foi de: \", (mediana))\n",
    "if mediana<7:\n",
    "    print(\"Infelizmente você foi reprovado\")\n",
    "else:\n",
    "    print(\"Parabéns, você foi aprovado\")"
   ]
  },
  {
   "cell_type": "code",
   "execution_count": 80,
   "id": "25418de4",
   "metadata": {},
   "outputs": [
    {
     "name": "stdout",
     "output_type": "stream",
     "text": [
      "Testando a função recursiva:\n",
      "1\n",
      "2\n",
      "3\n",
      "4\n",
      "5\n",
      "6\n",
      "7\n",
      "8\n"
     ]
    }
   ],
   "source": [
    "#testando recursivas\n",
    "\n",
    "def funcaoRecursiva(numero):\n",
    "    if (numero != 1):\n",
    "        funcaoRecursiva(numero - 1)\n",
    "    print(numero)\n",
    "\n",
    "print(\"Testando a função recursiva:\")\n",
    "funcaoRecursiva(8)"
   ]
  },
  {
   "cell_type": "code",
   "execution_count": null,
   "id": "a95b2117",
   "metadata": {},
   "outputs": [],
   "source": []
  }
 ],
 "metadata": {
  "kernelspec": {
   "display_name": "Python 3 (ipykernel)",
   "language": "python",
   "name": "python3"
  },
  "language_info": {
   "codemirror_mode": {
    "name": "ipython",
    "version": 3
   },
   "file_extension": ".py",
   "mimetype": "text/x-python",
   "name": "python",
   "nbconvert_exporter": "python",
   "pygments_lexer": "ipython3",
   "version": "3.9.6"
  }
 },
 "nbformat": 4,
 "nbformat_minor": 5
}
