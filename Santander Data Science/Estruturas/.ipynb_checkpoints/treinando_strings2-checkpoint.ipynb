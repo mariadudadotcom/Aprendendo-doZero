{
 "cells": [
  {
   "cell_type": "code",
   "execution_count": 5,
   "id": "cebcc2fd",
   "metadata": {},
   "outputs": [
    {
     "name": "stdout",
     "output_type": "stream",
     "text": [
      "Analice Esposito \n"
     ]
    }
   ],
   "source": [
    "nome = \"Analice \"\n",
    "sobrenome = \"Esposito \"\n",
    "print(nome + sobrenome)"
   ]
  },
  {
   "cell_type": "code",
   "execution_count": 6,
   "id": "121a2560",
   "metadata": {},
   "outputs": [
    {
     "name": "stdout",
     "output_type": "stream",
     "text": [
      "Analice Analice  Esposito Esposito \n"
     ]
    }
   ],
   "source": [
    "print(nome *2, sobrenome *2)"
   ]
  },
  {
   "cell_type": "code",
   "execution_count": 10,
   "id": "62fdd28a",
   "metadata": {},
   "outputs": [
    {
     "name": "stdout",
     "output_type": "stream",
     "text": [
      "O valor de Pi é:  3.14159265359\n",
      "O valor arredondado é: 3.14\n"
     ]
    }
   ],
   "source": [
    "pi = 3.14159265359\n",
    "print(\"O valor de Pi é: \", pi)\n",
    "print(\"O valor arredondado é: {:.3}\".format(pi))"
   ]
  },
  {
   "cell_type": "code",
   "execution_count": 26,
   "id": "5480d591",
   "metadata": {},
   "outputs": [
    {
     "name": "stdout",
     "output_type": "stream",
     "text": [
      "eenie-meenie-miny-mo\n",
      "lover, eenie, miny\n"
     ]
    }
   ],
   "source": [
    "print(\"{0}-{1}-{2}-{3}\".format(\"eenie\", \"meenie\", \"miny\", \"mo\", \"lover\"))\n",
    "print(\"{4}, {0}, {2}\".format(\"eenie\", \"meenie\", \"miny\", \"mo\", \"lover\"))"
   ]
  },
  {
   "cell_type": "code",
   "execution_count": null,
   "id": "d0050c73",
   "metadata": {},
   "outputs": [],
   "source": [
    "data_completa = input(\"Qual a data do seu nascimento? (dd/mm/aaaa)\")\n",
    "print(data_completa)"
   ]
  },
  {
   "cell_type": "code",
   "execution_count": null,
   "id": "55659306",
   "metadata": {},
   "outputs": [],
   "source": [
    "dia = 7\n",
    "mes = 9\n",
    "ano = 1987\n",
    "\n",
    "data = '{:02d}/{:02d}/{:04d}'.format(dia, mes,ano)\n",
    "print(data)"
   ]
  }
 ],
 "metadata": {
  "kernelspec": {
   "display_name": "Python 3 (ipykernel)",
   "language": "python",
   "name": "python3"
  },
  "language_info": {
   "codemirror_mode": {
    "name": "ipython",
    "version": 3
   },
   "file_extension": ".py",
   "mimetype": "text/x-python",
   "name": "python",
   "nbconvert_exporter": "python",
   "pygments_lexer": "ipython3",
   "version": "3.9.6"
  }
 },
 "nbformat": 4,
 "nbformat_minor": 5
}
