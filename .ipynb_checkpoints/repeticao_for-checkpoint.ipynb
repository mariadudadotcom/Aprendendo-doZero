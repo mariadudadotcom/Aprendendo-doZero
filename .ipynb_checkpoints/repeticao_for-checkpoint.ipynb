{
 "cells": [
  {
   "cell_type": "code",
   "execution_count": 1,
   "id": "ff271d07",
   "metadata": {},
   "outputs": [
    {
     "name": "stdout",
     "output_type": "stream",
     "text": [
      "Ação\n",
      "Animação\n",
      "Aventura\n",
      "Comédia\n",
      "Drama\n"
     ]
    }
   ],
   "source": [
    "genero_filmes = ['Ação', 'Animação', 'Aventura', 'Comédia', 'Drama']\n",
    "for generos in genero_filmes:\n",
    "    print(generos)"
   ]
  },
  {
   "cell_type": "code",
   "execution_count": 4,
   "id": "28a77b3b",
   "metadata": {},
   "outputs": [
    {
     "name": "stdout",
     "output_type": "stream",
     "text": [
      "Ação\n",
      "Animação\n",
      "Aventura\n",
      "Comédia\n",
      "Drama\n"
     ]
    }
   ],
   "source": [
    "#mesmo exemplo com while\n",
    "contador = 0\n",
    "genero_filmes = ['Ação', 'Animação', 'Aventura', 'Comédia', 'Drama']\n",
    "while contador < len(genero_filmes):\n",
    "    print(genero_filmes[contador])\n",
    "    contador = contador + 1"
   ]
  },
  {
   "cell_type": "code",
   "execution_count": 9,
   "id": "6f99d0fb",
   "metadata": {},
   "outputs": [
    {
     "name": "stdout",
     "output_type": "stream",
     "text": [
      "Ação: John Wick\n",
      "Animação: Scooby!\n",
      "Aventura: Avatar\n",
      "Comédia: Zoombieland\n",
      "Drama: Parasite\n"
     ]
    }
   ],
   "source": [
    "genero_filmes = {\n",
    "    'Ação' : 'John Wick',\n",
    "    'Animação' : 'Scooby!',\n",
    "    'Aventura' : 'Avatar',\n",
    "    'Comédia' : 'Zoombieland',\n",
    "    'Drama' : 'Parasite',\n",
    "}\n",
    "for chave in genero_filmes:\n",
    "    print(f'{chave}: {genero_filmes[chave]}')"
   ]
  },
  {
   "cell_type": "code",
   "execution_count": 10,
   "id": "f2470153",
   "metadata": {},
   "outputs": [
    {
     "name": "stdout",
     "output_type": "stream",
     "text": [
      "0\n",
      "1\n",
      "2\n",
      "3\n",
      "4\n"
     ]
    }
   ],
   "source": [
    "for posicao in range(len(genero_filmes)):\n",
    "    print(posicao)"
   ]
  },
  {
   "cell_type": "code",
   "execution_count": 17,
   "id": "06ca681c",
   "metadata": {},
   "outputs": [
    {
     "name": "stdout",
     "output_type": "stream",
     "text": [
      "[0, 1, 2, 3, 4, 5, 6, 7, 8, 9, 10, 11, 12, 13, 14, 15, 16, 17, 18, 19, 20, 21, 22, 23, 24, 25, 26, 27, 28, 29, 30, 31, 32, 33, 34, 35, 36, 37, 38, 39, 40, 41, 42, 43, 44, 45, 46, 47, 48, 49]\n",
      "[50, 51, 52, 53, 54, 55, 56, 57, 58, 59, 60, 61, 62, 63, 64, 65, 66, 67, 68, 69, 70, 71, 72, 73, 74, 75, 76, 77, 78, 79, 80, 81, 82, 83, 84, 85, 86, 87, 88, 89, 90, 91, 92, 93, 94, 95, 96, 97, 98, 99]\n",
      "[5, 10, 15, 20, 25, 30, 35, 40, 45, 50, 55, 60, 65, 70, 75, 80, 85, 90, 95]\n"
     ]
    }
   ],
   "source": [
    "print(list(range(50)))\n",
    "print(list(range(50, 100)))\n",
    "print(list(range(5, 100, 5)))"
   ]
  },
  {
   "cell_type": "code",
   "execution_count": null,
   "id": "83cb87e4",
   "metadata": {},
   "outputs": [],
   "source": []
  }
 ],
 "metadata": {
  "kernelspec": {
   "display_name": "Python 3 (ipykernel)",
   "language": "python",
   "name": "python3"
  },
  "language_info": {
   "codemirror_mode": {
    "name": "ipython",
    "version": 3
   },
   "file_extension": ".py",
   "mimetype": "text/x-python",
   "name": "python",
   "nbconvert_exporter": "python",
   "pygments_lexer": "ipython3",
   "version": "3.9.6"
  }
 },
 "nbformat": 4,
 "nbformat_minor": 5
}
