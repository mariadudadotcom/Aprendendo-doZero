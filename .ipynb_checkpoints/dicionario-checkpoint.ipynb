{
 "cells": [
  {
   "cell_type": "code",
   "execution_count": 18,
   "id": "d8b62fca",
   "metadata": {},
   "outputs": [],
   "source": [
    "the_office = {\n",
    "    'Produtor': 'Greg Daniels',\n",
    "    'Idioma': 'Inglês',\n",
    "    'Origem' : 'Estados Unidos',\n",
    "    'Elenco' : 'Steve C., Rainn W., John K., Jenna F., B.J. Novak'\n",
    "}"
   ]
  },
  {
   "cell_type": "code",
   "execution_count": 19,
   "id": "57b000f9",
   "metadata": {},
   "outputs": [
    {
     "name": "stdout",
     "output_type": "stream",
     "text": [
      "{'Produtor': 'Greg Daniels', 'Idioma': 'Inglês', 'Origem': 'Estados Unidos', 'Elenco': 'Steve C., Rainn W., John K., Jenna F., B.J. Novak'}\n",
      "<class 'dict'>\n"
     ]
    }
   ],
   "source": [
    "print(the_office)\n",
    "print(type(the_office))"
   ]
  },
  {
   "cell_type": "code",
   "execution_count": 21,
   "id": "c992aa43",
   "metadata": {},
   "outputs": [
    {
     "name": "stdout",
     "output_type": "stream",
     "text": [
      "{'Produtor': 'Greg Daniels', 'Idioma': 'Inglês', 'Origem': 'Estados Unidos', 'Elenco': 'Steve C., Rainn W., John K., Jenna F., B.J. Novak', 'Abertura': 'Jay Ferguson'}\n"
     ]
    }
   ],
   "source": [
    "the_office['Abertura'] = 'Jay Ferguson'\n",
    "print(the_office)"
   ]
  },
  {
   "cell_type": "code",
   "execution_count": 22,
   "id": "f7a6c839",
   "metadata": {},
   "outputs": [
    {
     "name": "stdout",
     "output_type": "stream",
     "text": [
      "Steve C., Rainn W., John K., Jenna F., B.J. Novak\n"
     ]
    }
   ],
   "source": [
    "print(the_office['Elenco'])"
   ]
  },
  {
   "cell_type": "code",
   "execution_count": 25,
   "id": "d44f98a4",
   "metadata": {},
   "outputs": [
    {
     "name": "stdout",
     "output_type": "stream",
     "text": [
      "Abertura:  The Office Theme Song by The Scrantones\n",
      "{'Produtor': 'Greg Daniels', 'Idioma': 'Inglês', 'Origem': 'Estados Unidos', 'Elenco': 'Steve C., Rainn W., John K., Jenna F., B.J. Novak', 'Abertura': 'The Office Theme Song by The Scrantones'}\n"
     ]
    }
   ],
   "source": [
    "the_office['Abertura'] = 'The Office Theme Song by The Scrantones'\n",
    "print('Abertura: ', the_office['Abertura'])\n",
    "print(the_office)"
   ]
  },
  {
   "cell_type": "code",
   "execution_count": 26,
   "id": "10f6c571",
   "metadata": {},
   "outputs": [
    {
     "name": "stdout",
     "output_type": "stream",
     "text": [
      "{'Produtor': 'Greg Daniels', 'Idioma': 'Inglês', 'Origem': 'Estados Unidos', 'Elenco': 'Steve C., Rainn W., John K., Jenna F., B.J. Novak', 'Abertura': 'The Office Theme Song by The Scrantones', 'Temporadas': '9', 'Episódios': '201'}\n"
     ]
    }
   ],
   "source": [
    "novas_infos = {\n",
    "    'Temporadas' : '9',\n",
    "    'Episódios' : '201',\n",
    "}\n",
    "the_office.update(novas_infos)\n",
    "print(the_office)"
   ]
  },
  {
   "cell_type": "code",
   "execution_count": 28,
   "id": "01d3a0fa",
   "metadata": {},
   "outputs": [
    {
     "name": "stdout",
     "output_type": "stream",
     "text": [
      "The Office Theme Song by The Scrantones\n"
     ]
    }
   ],
   "source": [
    "print(the_office.get('Abertura'))"
   ]
  },
  {
   "cell_type": "code",
   "execution_count": 29,
   "id": "955c0c65",
   "metadata": {},
   "outputs": [
    {
     "name": "stdout",
     "output_type": "stream",
     "text": [
      "None\n"
     ]
    }
   ],
   "source": [
    "print(the_office.get('Exibição'))"
   ]
  },
  {
   "cell_type": "code",
   "execution_count": 30,
   "id": "d676ce35",
   "metadata": {},
   "outputs": [
    {
     "name": "stdout",
     "output_type": "stream",
     "text": [
      "dict_keys(['Produtor', 'Idioma', 'Origem', 'Elenco', 'Abertura', 'Temporadas', 'Episódios'])\n",
      "----\n",
      "dict_values(['Greg Daniels', 'Inglês', 'Estados Unidos', 'Steve C., Rainn W., John K., Jenna F., B.J. Novak', 'The Office Theme Song by The Scrantones', '9', '201'])\n",
      "----\n",
      "dict_items([('Produtor', 'Greg Daniels'), ('Idioma', 'Inglês'), ('Origem', 'Estados Unidos'), ('Elenco', 'Steve C., Rainn W., John K., Jenna F., B.J. Novak'), ('Abertura', 'The Office Theme Song by The Scrantones'), ('Temporadas', '9'), ('Episódios', '201')])\n",
      "----\n"
     ]
    }
   ],
   "source": [
    "print(the_office.keys())\n",
    "print('----')\n",
    "print(the_office.values())\n",
    "print('----')\n",
    "print(the_office.items())\n",
    "print('----')"
   ]
  },
  {
   "cell_type": "code",
   "execution_count": null,
   "id": "7984b6cb",
   "metadata": {},
   "outputs": [],
   "source": []
  }
 ],
 "metadata": {
  "kernelspec": {
   "display_name": "Python 3 (ipykernel)",
   "language": "python",
   "name": "python3"
  },
  "language_info": {
   "codemirror_mode": {
    "name": "ipython",
    "version": 3
   },
   "file_extension": ".py",
   "mimetype": "text/x-python",
   "name": "python",
   "nbconvert_exporter": "python",
   "pygments_lexer": "ipython3",
   "version": "3.9.6"
  }
 },
 "nbformat": 4,
 "nbformat_minor": 5
}
